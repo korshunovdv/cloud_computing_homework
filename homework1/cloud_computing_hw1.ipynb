{
 "cells": [
  {
   "cell_type": "markdown",
   "id": "d69828cd",
   "metadata": {},
   "source": [
    "# Idea"
   ]
  },
  {
   "cell_type": "markdown",
   "id": "0dd44bbe",
   "metadata": {},
   "source": [
    "Monitoring popular russian IT resurce and monitoring any feadbacks about company"
   ]
  },
  {
   "cell_type": "markdown",
   "id": "9a5b6768",
   "metadata": {},
   "source": [
    "# Imports and installs"
   ]
  },
  {
   "cell_type": "code",
   "execution_count": 1,
   "id": "6e1ea6ac",
   "metadata": {},
   "outputs": [
    {
     "name": "stdout",
     "output_type": "stream",
     "text": [
      "Requirement already satisfied: beautifulsoup4 in ./miniconda/lib/python3.9/site-packages (4.10.0)\n",
      "Requirement already satisfied: soupsieve>1.2 in ./miniconda/lib/python3.9/site-packages (from beautifulsoup4) (2.3.1)\n",
      "Note: you may need to restart the kernel to use updated packages.\n",
      "Requirement already satisfied: html5lib in ./miniconda/lib/python3.9/site-packages (1.1)\n",
      "Requirement already satisfied: webencodings in ./miniconda/lib/python3.9/site-packages (from html5lib) (0.5.1)\n",
      "Requirement already satisfied: six>=1.9 in ./miniconda/lib/python3.9/site-packages (from html5lib) (1.16.0)\n",
      "Note: you may need to restart the kernel to use updated packages.\n",
      "Requirement already satisfied: pandas in ./miniconda/lib/python3.9/site-packages (1.4.0)\n",
      "Requirement already satisfied: pytz>=2020.1 in ./miniconda/lib/python3.9/site-packages (from pandas) (2021.3)\n",
      "Requirement already satisfied: numpy>=1.18.5 in ./miniconda/lib/python3.9/site-packages (from pandas) (1.20.3)\n",
      "Requirement already satisfied: python-dateutil>=2.8.1 in ./miniconda/lib/python3.9/site-packages (from pandas) (2.8.2)\n",
      "Requirement already satisfied: six>=1.5 in ./miniconda/lib/python3.9/site-packages (from python-dateutil>=2.8.1->pandas) (1.16.0)\n",
      "Note: you may need to restart the kernel to use updated packages.\n"
     ]
    }
   ],
   "source": [
    "%pip install beautifulsoup4\n",
    "%pip install html5lib\n",
    "%pip install pandas"
   ]
  },
  {
   "cell_type": "code",
   "execution_count": 8,
   "id": "15d306be",
   "metadata": {},
   "outputs": [],
   "source": [
    "import requests\n",
    "import json\n",
    "import pandas as pd\n",
    "from collections import defaultdict\n",
    "from bs4 import BeautifulSoup"
   ]
  },
  {
   "cell_type": "markdown",
   "id": "85121009",
   "metadata": {},
   "source": [
    "# Functions "
   ]
  },
  {
   "cell_type": "code",
   "execution_count": null,
   "id": "8378e4c4",
   "metadata": {},
   "outputs": [],
   "source": []
  },
  {
   "cell_type": "markdown",
   "id": "14568ad0",
   "metadata": {},
   "source": [
    "# Data processing"
   ]
  },
  {
   "cell_type": "code",
   "execution_count": 3,
   "id": "4ebc52f9",
   "metadata": {},
   "outputs": [],
   "source": [
    "url = \"https://vc.ru/claim\"\n",
    "response = requests.get(url)\n",
    "soup = BeautifulSoup(response.text, 'html.parser')"
   ]
  },
  {
   "cell_type": "code",
   "execution_count": 4,
   "id": "c17480a1",
   "metadata": {},
   "outputs": [],
   "source": [
    "article_links = []\n",
    "for tag in soup.find_all(\"a\"):\n",
    "    class_names = tag.get(\"class\", [])\n",
    "    if \"content-link\" in class_names:\n",
    "        article_links.append(tag[\"href\"])\n",
    "\n",
    "storage = defaultdict(dict)\n",
    "for link in article_links:\n",
    "    storage[link][\"link\"] = link\n",
    "    response = requests.get(link)\n",
    "    article = BeautifulSoup(response.text, 'html.parser')\n",
    "    for tag in article.find_all(\"h1\"):\n",
    "        storage[link][\"name\"] = tag.text\n",
    "    text = \"\"\n",
    "    for tag in article.find_all(\"div\"):\n",
    "        class_names = tag.get(\"class\", []) \n",
    "        if \"content--full\" in class_names:\n",
    "            text += tag.text\n",
    "            print\n",
    "    storage[link][\"text\"] = text"
   ]
  },
  {
   "cell_type": "code",
   "execution_count": 5,
   "id": "2810d4ff",
   "metadata": {},
   "outputs": [
    {
     "data": {
      "text/html": [
       "<div>\n",
       "<style scoped>\n",
       "    .dataframe tbody tr th:only-of-type {\n",
       "        vertical-align: middle;\n",
       "    }\n",
       "\n",
       "    .dataframe tbody tr th {\n",
       "        vertical-align: top;\n",
       "    }\n",
       "\n",
       "    .dataframe thead th {\n",
       "        text-align: right;\n",
       "    }\n",
       "</style>\n",
       "<table border=\"1\" class=\"dataframe\">\n",
       "  <thead>\n",
       "    <tr style=\"text-align: right;\">\n",
       "      <th></th>\n",
       "      <th>link</th>\n",
       "      <th>name</th>\n",
       "      <th>text</th>\n",
       "    </tr>\n",
       "  </thead>\n",
       "  <tbody>\n",
       "    <tr>\n",
       "      <th>7</th>\n",
       "      <td>https://vc.ru/claim/362344-avito-dostavka-ili-...</td>\n",
       "      <td>\\n                    Авито-Доставка — или как...</td>\n",
       "      <td>\\n\\nИстория началась в Перми в начале января 2...</td>\n",
       "    </tr>\n",
       "    <tr>\n",
       "      <th>6</th>\n",
       "      <td>https://vc.ru/claim/362951-oshibki-kartochek-v...</td>\n",
       "      <td>\\n                    Ошибки карточек в Яндекс...</td>\n",
       "      <td>\\n\\n\\n        Продолжение ситуации с ошибочной...</td>\n",
       "    </tr>\n",
       "    <tr>\n",
       "      <th>3</th>\n",
       "      <td>https://vc.ru/claim/362550-tinkoff-po-oshibke-...</td>\n",
       "      <td>\\n                    Тинькофф по ошибке удерж...</td>\n",
       "      <td>\\n\\nВсем привет! Заголовок получился громким и...</td>\n",
       "    </tr>\n",
       "    <tr>\n",
       "      <th>8</th>\n",
       "      <td>https://vc.ru/claim/362218-podozrevayu-chto-al...</td>\n",
       "      <td>\\n                    Подозреваю, что Альфа-ба...</td>\n",
       "      <td>\\n\\nВсем привет. Буду краток. Являюсь клиентом...</td>\n",
       "    </tr>\n",
       "    <tr>\n",
       "      <th>12</th>\n",
       "      <td>https://vc.ru/claim/362027-prishel-razbityy-gr...</td>\n",
       "      <td>\\n                    Пришел разбитый графичес...</td>\n",
       "      <td>\\n\\n\\n        Вместо предисловия…    \\n\\n\\n\\n\\...</td>\n",
       "    </tr>\n",
       "  </tbody>\n",
       "</table>\n",
       "</div>"
      ],
      "text/plain": [
       "                                                 link  \\\n",
       "7   https://vc.ru/claim/362344-avito-dostavka-ili-...   \n",
       "6   https://vc.ru/claim/362951-oshibki-kartochek-v...   \n",
       "3   https://vc.ru/claim/362550-tinkoff-po-oshibke-...   \n",
       "8   https://vc.ru/claim/362218-podozrevayu-chto-al...   \n",
       "12  https://vc.ru/claim/362027-prishel-razbityy-gr...   \n",
       "\n",
       "                                                 name  \\\n",
       "7   \\n                    Авито-Доставка — или как...   \n",
       "6   \\n                    Ошибки карточек в Яндекс...   \n",
       "3   \\n                    Тинькофф по ошибке удерж...   \n",
       "8   \\n                    Подозреваю, что Альфа-ба...   \n",
       "12  \\n                    Пришел разбитый графичес...   \n",
       "\n",
       "                                                 text  \n",
       "7   \\n\\nИстория началась в Перми в начале января 2...  \n",
       "6   \\n\\n\\n        Продолжение ситуации с ошибочной...  \n",
       "3   \\n\\nВсем привет! Заголовок получился громким и...  \n",
       "8   \\n\\nВсем привет. Буду краток. Являюсь клиентом...  \n",
       "12  \\n\\n\\n        Вместо предисловия…    \\n\\n\\n\\n\\...  "
      ]
     },
     "execution_count": 5,
     "metadata": {},
     "output_type": "execute_result"
    }
   ],
   "source": [
    "pd.DataFrame(storage.values()).dropna().sample(5)"
   ]
  },
  {
   "cell_type": "markdown",
   "id": "829caf9a",
   "metadata": {},
   "source": [
    "# Find companies"
   ]
  },
  {
   "cell_type": "code",
   "execution_count": 6,
   "id": "2887baea",
   "metadata": {},
   "outputs": [],
   "source": [
    "companies = [\"Яндекс\", \"Yandex\", \"Apple\", \"Ozon\", \"Озон\"]\n",
    "for link, article in storage.items():\n",
    "    mentiond = []\n",
    "    for company in companies:\n",
    "        if company.lower() in article.get(\"name\", \"\").lower():\n",
    "            mentiond.append(company)\n",
    "    \n",
    "    storage[link][\"company\"] = mentiond\n"
   ]
  },
  {
   "cell_type": "code",
   "execution_count": 7,
   "id": "5b1d5b52",
   "metadata": {},
   "outputs": [
    {
     "data": {
      "text/html": [
       "<div>\n",
       "<style scoped>\n",
       "    .dataframe tbody tr th:only-of-type {\n",
       "        vertical-align: middle;\n",
       "    }\n",
       "\n",
       "    .dataframe tbody tr th {\n",
       "        vertical-align: top;\n",
       "    }\n",
       "\n",
       "    .dataframe thead th {\n",
       "        text-align: right;\n",
       "    }\n",
       "</style>\n",
       "<table border=\"1\" class=\"dataframe\">\n",
       "  <thead>\n",
       "    <tr style=\"text-align: right;\">\n",
       "      <th></th>\n",
       "      <th>link</th>\n",
       "      <th>name</th>\n",
       "      <th>text</th>\n",
       "      <th>company</th>\n",
       "    </tr>\n",
       "  </thead>\n",
       "  <tbody>\n",
       "    <tr>\n",
       "      <th>10</th>\n",
       "      <td>https://vc.ru/claim/362844-postoyannye-problem...</td>\n",
       "      <td>\\n                    Постоянные проблемы с пр...</td>\n",
       "      <td>\\n\\n#жалобаozon #ozon #озон #fbo\\n\\n\\nПрошу пр...</td>\n",
       "      <td>[Ozon]</td>\n",
       "    </tr>\n",
       "    <tr>\n",
       "      <th>12</th>\n",
       "      <td>https://vc.ru/claim/362027-prishel-razbityy-gr...</td>\n",
       "      <td>\\n                    Пришел разбитый графичес...</td>\n",
       "      <td>\\n\\n\\n        Вместо предисловия…    \\n\\n\\n\\n\\...</td>\n",
       "      <td>[]</td>\n",
       "    </tr>\n",
       "    <tr>\n",
       "      <th>5</th>\n",
       "      <td>https://vc.ru/claim/362766-avito-ignoriruet-vo...</td>\n",
       "      <td>\\n                    Авито игнорирует вопросы...</td>\n",
       "      <td>\\n\\nВсем привет. Не думал, что моей первой пуб...</td>\n",
       "      <td>[]</td>\n",
       "    </tr>\n",
       "    <tr>\n",
       "      <th>9</th>\n",
       "      <td>https://vc.ru/claim/362853-vopros-k-sdek</td>\n",
       "      <td>\\n                    Вопрос к СДЭК</td>\n",
       "      <td>\\n\\n\\n\\n\\n\\n\\n\\n\\n\\n\\nУ меня пара вопросов к c...</td>\n",
       "      <td>[]</td>\n",
       "    </tr>\n",
       "    <tr>\n",
       "      <th>1</th>\n",
       "      <td>https://vc.ru/claim/362954-sberbank-uderzhivae...</td>\n",
       "      <td>\\n                    Сбербанк удерживает мои ...</td>\n",
       "      <td>\\n\\nНесколько лет сижу читаю статьи как разные...</td>\n",
       "      <td>[]</td>\n",
       "    </tr>\n",
       "  </tbody>\n",
       "</table>\n",
       "</div>"
      ],
      "text/plain": [
       "                                                 link  \\\n",
       "10  https://vc.ru/claim/362844-postoyannye-problem...   \n",
       "12  https://vc.ru/claim/362027-prishel-razbityy-gr...   \n",
       "5   https://vc.ru/claim/362766-avito-ignoriruet-vo...   \n",
       "9            https://vc.ru/claim/362853-vopros-k-sdek   \n",
       "1   https://vc.ru/claim/362954-sberbank-uderzhivae...   \n",
       "\n",
       "                                                 name  \\\n",
       "10  \\n                    Постоянные проблемы с пр...   \n",
       "12  \\n                    Пришел разбитый графичес...   \n",
       "5   \\n                    Авито игнорирует вопросы...   \n",
       "9     \\n                    Вопрос к СДЭК               \n",
       "1   \\n                    Сбербанк удерживает мои ...   \n",
       "\n",
       "                                                 text company  \n",
       "10  \\n\\n#жалобаozon #ozon #озон #fbo\\n\\n\\nПрошу пр...  [Ozon]  \n",
       "12  \\n\\n\\n        Вместо предисловия…    \\n\\n\\n\\n\\...      []  \n",
       "5   \\n\\nВсем привет. Не думал, что моей первой пуб...      []  \n",
       "9   \\n\\n\\n\\n\\n\\n\\n\\n\\n\\n\\nУ меня пара вопросов к c...      []  \n",
       "1   \\n\\nНесколько лет сижу читаю статьи как разные...      []  "
      ]
     },
     "execution_count": 7,
     "metadata": {},
     "output_type": "execute_result"
    }
   ],
   "source": [
    "pd.DataFrame(storage.values()).dropna().sample(5)"
   ]
  },
  {
   "cell_type": "markdown",
   "id": "f19b2f6d",
   "metadata": {},
   "source": [
    "# Save results"
   ]
  },
  {
   "cell_type": "code",
   "execution_count": 10,
   "id": "df10b24d",
   "metadata": {},
   "outputs": [],
   "source": [
    "fname = \"articles.json\"\n",
    "data = [article for article in storage.values()]\n",
    "with open(fname, \"w\") as file:\n",
    "    json.dump(data, file)"
   ]
  }
 ],
 "metadata": {
  "kernelspec": {
   "display_name": "Python [conda env:root] *",
   "language": "python",
   "name": "conda-root-py"
  },
  "language_info": {
   "codemirror_mode": {
    "name": "ipython",
    "version": 3
   },
   "file_extension": ".py",
   "mimetype": "text/x-python",
   "name": "python",
   "nbconvert_exporter": "python",
   "pygments_lexer": "ipython3",
   "version": "3.9.5"
  },
  "toc": {
   "base_numbering": 1,
   "nav_menu": {},
   "number_sections": true,
   "sideBar": true,
   "skip_h1_title": false,
   "title_cell": "Table of Contents",
   "title_sidebar": "Contents",
   "toc_cell": false,
   "toc_position": {},
   "toc_section_display": true,
   "toc_window_display": false
  }
 },
 "nbformat": 4,
 "nbformat_minor": 5
}
